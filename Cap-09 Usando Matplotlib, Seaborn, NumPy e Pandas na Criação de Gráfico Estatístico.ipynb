{
 "cells": [
  {
   "cell_type": "code",
   "execution_count": null,
   "id": "5f855f96",
   "metadata": {},
   "outputs": [],
   "source": [
    "# Valores randômico\n",
    "np.random.seed(42)\n",
    "        \n",
    "n = 1000\n",
    "pct_smokers = 0.2\n",
    "\n",
    "# Variaveis\n",
    "flag_fumante = np.random.rand(n) < pct_smokers\n",
    "idade = np.random.normal(40, 10, n)\n",
    "altura = np.random.normal(170, 10, n)\n",
    "peso = np.random.normal(70, 10, n)\n",
    "\n",
    "# Dataframe\n",
    "dados = pd.DataFrame({'altura': altura, 'peso': peso, 'flag_fumante': flag_fumante})\n",
    "\n",
    "# Cria os dados para a variavel flag_fumante\n",
    "dados['flag_fumante'] = dados['flag_fumante'] .map({True: 'Fumante', False: 'Não fumante'})"
   ]
  },
  {
   "cell_type": "code",
   "execution_count": null,
   "id": "2905ea22",
   "metadata": {},
   "outputs": [],
   "source": [
    "dados.shape"
   ]
  },
  {
   "cell_type": "code",
   "execution_count": null,
   "id": "c5c576b6",
   "metadata": {},
   "outputs": [],
   "source": [
    "dados.head()"
   ]
  },
  {
   "cell_type": "code",
   "execution_count": null,
   "id": "6b1bd00f",
   "metadata": {},
   "outputs": [],
   "source": [
    "# Style\n",
    "sns.set(style = 'ticks')\n",
    "\n",
    "# Implot\n",
    "sns.Implot(x = 'altura',\n",
    "           y = 'peso',\n",
    "           data = dados,\n",
    "           hue = 'flag_fumante',\n",
    "           palette = ['tab:blue', 'tab:orange'],\n",
    "           height = 7)\n",
    "\n",
    "# Labels e título\n",
    "plt.xlabel('Altura (cm)')\n",
    "plt.ylabel('peso (kg)')\n",
    "plt.title('Relação entre altura e peso de fumante e Não fumantes')\n",
    "\n",
    "# Remove as bordas\n",
    "sns.despine()\n",
    "\n",
    "# Show\n",
    "plt.show()"
   ]
  }
 ],
 "metadata": {
  "kernelspec": {
   "display_name": "Python 3 (ipykernel)",
   "language": "python",
   "name": "python3"
  },
  "language_info": {
   "codemirror_mode": {
    "name": "ipython",
    "version": 3
   },
   "file_extension": ".py",
   "mimetype": "text/x-python",
   "name": "python",
   "nbconvert_exporter": "python",
   "pygments_lexer": "ipython3",
   "version": "3.9.13"
  }
 },
 "nbformat": 4,
 "nbformat_minor": 5
}
